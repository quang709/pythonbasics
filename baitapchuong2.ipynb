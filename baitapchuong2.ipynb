{
  "nbformat": 4,
  "nbformat_minor": 0,
  "metadata": {
    "colab": {
      "name": "baitapchuong2.ipynb",
      "provenance": [],
      "authorship_tag": "ABX9TyOwYu6cqbqStoBGTZXyr1vM",
      "include_colab_link": true
    },
    "kernelspec": {
      "name": "python3",
      "display_name": "Python 3"
    }
  },
  "cells": [
    {
      "cell_type": "markdown",
      "metadata": {
        "id": "view-in-github",
        "colab_type": "text"
      },
      "source": [
        "<a href=\"https://colab.research.google.com/github/quang709/pythonbasics/blob/main/baitapchuong2.ipynb\" target=\"_parent\"><img src=\"https://colab.research.google.com/assets/colab-badge.svg\" alt=\"Open In Colab\"/></a>"
      ]
    },
    {
      "cell_type": "markdown",
      "metadata": {
        "id": "ZghCPNYKvPaU"
      },
      "source": [
        "BÀI TẬP LẬP TRÌNH CHƯƠNG 2\r\n",
        "\r\n",
        "Bài 1: Lập trình nhập vào từ bàn phím 2 số nguyên và tính:\r\n",
        "\r\n",
        "Tổng của 2 số\r\n",
        "Tích của 2 số\r\n",
        "Hiệu của 2 số\r\n",
        "Phép chia lấy phần dư của 2 số\r\n",
        "Phép chia lấy phần nguyên của 2 số\r\n",
        "Kết quả xuất ra màn hình"
      ]
    },
    {
      "cell_type": "code",
      "metadata": {
        "colab": {
          "base_uri": "https://localhost:8080/"
        },
        "id": "jdpTH4N9vOkD",
        "outputId": "b300768f-3b55-45d2-f7a2-6b218fe61d26"
      },
      "source": [
        "#Tổng của 2 số,Tích của 2 số,Hiệu của 2 số,Phép chia lấy phần dư của 2 số,Phép chia lấy phần nguyên của 2 số\r\n",
        "\r\n",
        "a = input(\"a=\")\r\n",
        "b= input(\"b=\")\r\n",
        "a = int(a)\r\n",
        "b= int(b)\r\n",
        "c=a+b\r\n",
        "d=a-b\r\n",
        "e=a*b\r\n",
        "f=a%b\r\n",
        "g=a//b\r\n",
        "print(\"a+b=\",c)\r\n",
        "print(\"a-b=\",d)\r\n",
        "print(\"a*b=\",e)\r\n",
        "print(\"a%b=\",f)\r\n",
        "print(\"a//b=\",g)"
      ],
      "execution_count": 6,
      "outputs": [
        {
          "output_type": "stream",
          "text": [
            "a=5\n",
            "b=1\n",
            "a+b= 6\n",
            "a-b= 4\n",
            "a*b= 5\n",
            "a%b= 0\n",
            "a//b= 5\n"
          ],
          "name": "stdout"
        }
      ]
    },
    {
      "cell_type": "markdown",
      "metadata": {
        "id": "jXaHojcywYs0"
      },
      "source": [
        "Bài 2: Lập trình nhập vào từ bàn phím 2 số thực và tính:\r\n",
        "\r\n",
        "Tổng của 2 số\r\n",
        "Tích của 2 số\r\n",
        "Hiệu của 2 số\r\n",
        "Thương của 2 số\r\n",
        "Kết quả xuất ra màn hình"
      ]
    },
    {
      "cell_type": "code",
      "metadata": {
        "colab": {
          "base_uri": "https://localhost:8080/"
        },
        "id": "VrsW7NvUwcgd",
        "outputId": "8927f7db-e68a-4118-ca6a-98562ff2ed43"
      },
      "source": [
        "a = input(\"a=\")\r\n",
        "b= input(\"b=\")\r\n",
        "a = float(a)\r\n",
        "b= float(b)\r\n",
        "c=a+b\r\n",
        "d=a-b\r\n",
        "e=a*b\r\n",
        "f=a/b\r\n",
        "\r\n",
        "print(\"a+b=\",c)\r\n",
        "print(\"a-b=\",d)\r\n",
        "print(\"a*b=\",e)\r\n",
        "print(\"a%b=\",f)\r\n"
      ],
      "execution_count": 3,
      "outputs": [
        {
          "output_type": "stream",
          "text": [
            "a=4.6\n",
            "b=5.9\n",
            "a+b= 10.5\n",
            "a-b= -1.3000000000000007\n",
            "a*b= 27.14\n",
            "a%b= 0.7796610169491525\n"
          ],
          "name": "stdout"
        }
      ]
    },
    {
      "cell_type": "markdown",
      "metadata": {
        "id": "Hhj0pLcwxTyF"
      },
      "source": [
        "Bài 3: (Sử dụng các hàm toán học) Nhập một số từ bàn phím và tính:\r\n",
        "\r\n",
        "Trị tuyệt đối\r\n",
        "Lấy phần nguyên của số\r\n",
        "Chuyển đổi thành số thực\r\n",
        "(nhập thêm 1 số từ bàn phím) và tính lũy thừa  xy \r\n",
        "Tính căn bậc hai\r\n",
        "Kết quả xuất ra màn hình"
      ]
    },
    {
      "cell_type": "code",
      "metadata": {
        "colab": {
          "base_uri": "https://localhost:8080/"
        },
        "id": "ypnEGKpLxW8n",
        "outputId": "cd15a942-7806-4466-db46-02cc16b8391f"
      },
      "source": [
        "a = input(\"a=\")\r\n",
        "\r\n",
        "a = float(a)\r\n",
        "\r\n",
        "\r\n",
        "print('Giá trị tuyệt đối của ',a, 'là: ', abs(a))\r\n",
        "\r\n"
      ],
      "execution_count": 5,
      "outputs": [
        {
          "output_type": "stream",
          "text": [
            "a=-34\n",
            "Giá trị tuyệt đối của  -34.0 là:  34.0\n"
          ],
          "name": "stdout"
        }
      ]
    },
    {
      "cell_type": "code",
      "metadata": {
        "colab": {
          "base_uri": "https://localhost:8080/"
        },
        "id": "jcawiCY_0PY9",
        "outputId": "49909b59-3f31-4e53-e750-3747bf320203"
      },
      "source": [
        "a = input(\"a=\")\r\n",
        "b = 1\r\n",
        "a = float(a)\r\n",
        "print('Lấy phần nguyên của số ',a, 'là: ', a//b)"
      ],
      "execution_count": 11,
      "outputs": [
        {
          "output_type": "stream",
          "text": [
            "a=5\n",
            "Lấy phần nguyên của số  5.0 là:  5.0\n"
          ],
          "name": "stdout"
        }
      ]
    },
    {
      "cell_type": "code",
      "metadata": {
        "colab": {
          "base_uri": "https://localhost:8080/"
        },
        "id": "CQgWSu5Y15y9",
        "outputId": "cb62ab17-ba72-4f47-b89e-79508e10d279"
      },
      "source": [
        "a = input(\"a=\")\r\n",
        "a = float(a)\r\n",
        "print('chuyển ĐỔI THÀNH SỐ THỰC ',a, 'là: ', a)"
      ],
      "execution_count": 33,
      "outputs": [
        {
          "output_type": "stream",
          "text": [
            "a=4.3\n",
            "4.3\n"
          ],
          "name": "stdout"
        }
      ]
    },
    {
      "cell_type": "code",
      "metadata": {
        "colab": {
          "base_uri": "https://localhost:8080/"
        },
        "id": "w76fo0mm2bzB",
        "outputId": "14eee475-e599-4351-98e4-cc5bc0f25a33"
      },
      "source": [
        "a = input(\"a=\")\r\n",
        "b= input(\"b=\")\r\n",
        "a = int(a)\r\n",
        "b= int(b)\r\n",
        "c=a**b\r\n",
        "print(a,'lũy thừa ',b, 'là: ', c)"
      ],
      "execution_count": 23,
      "outputs": [
        {
          "output_type": "stream",
          "text": [
            "a=3\n",
            "b=4\n",
            "3   lũy thừa  4 là:  81\n"
          ],
          "name": "stdout"
        }
      ]
    },
    {
      "cell_type": "code",
      "metadata": {
        "colab": {
          "base_uri": "https://localhost:8080/"
        },
        "id": "tKxW_95e4khj",
        "outputId": "e16fef30-2a0d-4e94-a013-88a91d3ec4e3"
      },
      "source": [
        "import math\r\n",
        " \r\n",
        "print(\"Vui lòng nhập số cần tính căn bậc hai!\")\r\n",
        "number = float(input());\r\n",
        " \r\n",
        "print(\"Căn bậc hai của số \", number, ' là: ', math.sqrt(number))"
      ],
      "execution_count": 31,
      "outputs": [
        {
          "output_type": "stream",
          "text": [
            "Vui lòng nhập số cần tính căn bậc hai!\n",
            "25\n",
            "Căn bậc hai của số  25.0  là:  5.0\n"
          ],
          "name": "stdout"
        }
      ]
    },
    {
      "cell_type": "markdown",
      "metadata": {
        "id": "wucHsydq6Whx"
      },
      "source": [
        "Bài 4: Nhập 2 số từ bàn phím và thực hiện các phép so sánh sau giữa 2 số:\r\n",
        "\r\n",
        "≥ \r\n",
        "≤ \r\n",
        "> \r\n",
        "< \r\n",
        "≠ \r\n",
        "Kết quả xuất ra màn hình"
      ]
    },
    {
      "cell_type": "code",
      "metadata": {
        "colab": {
          "base_uri": "https://localhost:8080/"
        },
        "id": "p5LcoDS595-N",
        "outputId": "68072dc3-ed19-4d20-f827-ac7109a04c36"
      },
      "source": [
        "x = input(\"x=\")\r\n",
        "y = input(\"y=\")\r\n",
        "x= int(x)\r\n",
        "y=int(y)\r\n",
        "print('x > y is', x > y)\r\n",
        "print('x < y is', x < y)\r\n",
        "print('x == y is', x == y)\r\n",
        "print('x != y is', x != y)\r\n",
        "print('x >= y is', x >= y)\r\n",
        "print('x <= y is', x <= y)"
      ],
      "execution_count": 40,
      "outputs": [
        {
          "output_type": "stream",
          "text": [
            "x=1\n",
            "y=2\n",
            "x > y is False\n",
            "x < y is True\n",
            "x == y is False\n",
            "x != y is True\n",
            "x >= y is False\n",
            "x <= y is True\n"
          ],
          "name": "stdout"
        }
      ]
    },
    {
      "cell_type": "markdown",
      "metadata": {
        "id": "E1c_asb8-SuT"
      },
      "source": [
        "Bài 5: Nhập 1 chuỗi ký tự từ bàn phím:\r\n",
        "\r\n",
        "Chuyển thành chuỗi in hoa\r\n",
        "Chuyển thành chuỗi in thường\r\n",
        "Kết quả xuất ra màn hình"
      ]
    },
    {
      "cell_type": "code",
      "metadata": {
        "colab": {
          "base_uri": "https://localhost:8080/"
        },
        "id": "Mq-Gzg_Y-UdX",
        "outputId": "3e6012cb-e64b-4486-ddb6-e5a48d093916"
      },
      "source": [
        "\t\r\n",
        "\r\n",
        "str1 = input(\"str1=\")\r\n",
        "print ('Chuyển thành chuỗi in hoa  ',str1.upper())"
      ],
      "execution_count": 55,
      "outputs": [
        {
          "output_type": "stream",
          "text": [
            "str1=aaaa\n",
            "Chuyển thành chuỗi in hoa   AAAA\n"
          ],
          "name": "stdout"
        }
      ]
    },
    {
      "cell_type": "code",
      "metadata": {
        "colab": {
          "base_uri": "https://localhost:8080/"
        },
        "id": "fZ_uPCg6_au3",
        "outputId": "8edb8129-efbb-4166-dca8-3176e77b3083"
      },
      "source": [
        "str1 = input(\"str1=\")\r\n",
        "print ('Chuyển thành chuỗi in thường',str1.title())"
      ],
      "execution_count": 56,
      "outputs": [
        {
          "output_type": "stream",
          "text": [
            "str1=AAAA\n",
            "Chuyển thành chuỗi in thường Aaaa\n"
          ],
          "name": "stdout"
        }
      ]
    }
  ]
}