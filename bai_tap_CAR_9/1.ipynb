{
  "nbformat": 4,
  "nbformat_minor": 0,
  "metadata": {
    "colab": {
      "name": "bai-tap-CAR.ipynb",
      "provenance": [],
      "include_colab_link": true
    },
    "kernelspec": {
      "name": "python3",
      "display_name": "Python 3"
    }
  },
  "cells": [
    {
      "cell_type": "markdown",
      "metadata": {
        "id": "view-in-github",
        "colab_type": "text"
      },
      "source": [
        "<a href=\"https://colab.research.google.com/github/quang709/pythonbasics/blob/main/bai_tap_CAR_9/1.ipynb\" target=\"_parent\"><img src=\"https://colab.research.google.com/assets/colab-badge.svg\" alt=\"Open In Colab\"/></a>"
      ]
    },
    {
      "cell_type": "markdown",
      "metadata": {
        "id": "bJGNCF66qS_5"
      },
      "source": [
        "Tạo lớp CAR có các thuộc tính name, color và engine"
      ]
    },
    {
      "cell_type": "code",
      "metadata": {
        "id": "GurytHijqLSC",
        "colab": {
          "base_uri": "https://localhost:8080/"
        },
        "outputId": "097917f5-7e94-40e5-ba24-e0601eed0e32"
      },
      "source": [
        "class Car:\r\n",
        "  # color = 'white'\r\n",
        "\r\n",
        "  def __init__(self, name, engine,color):\r\n",
        "    self.name = name\r\n",
        "    self.engine = engine\r\n",
        "    self.color =color\r\n",
        "  \r\n",
        "  # def setColor(self, color):\r\n",
        "  #   self.color = color\r\n",
        "  \r\n",
        "  # def setEngine(self, engine):\r\n",
        "  #   self.engine = engine\r\n",
        "  \r\n",
        "  # def setName(self, name):\r\n",
        "  #   self.name = name\r\n",
        "  \r\n",
        "  # def getEngine(self):\r\n",
        "  #   return self.engine\r\n",
        "  \r\n",
        "  def toString(self):\r\n",
        "    s = 'Xe {} có màu {} và động cơ {} mã lực'.format(self.name, self.color, self.engine)\r\n",
        "    return(s)\r\n",
        "  def key_start(self):\r\n",
        "    print ('{} khởi động bằng khóa điện tử'.format(self.name))\r\n",
        "\r\n",
        "lambogini = Car('Vinfast Fadil','vang',1.4)\r\n",
        "print(lambogini.toString())\r\n",
        "lambogini.key_start()\r\n",
        "   \r\n",
        " "
      ],
      "execution_count": 70,
      "outputs": [
        {
          "output_type": "stream",
          "text": [
            "Xe Vinfast Fadil có màu 1.4 và động cơ vang mã lực\n",
            "Vinfast Fadil khởi động bằng khóa điện tử\n"
          ],
          "name": "stdout"
        }
      ]
    },
    {
      "cell_type": "code",
      "metadata": {
        "id": "Ws_EkIUUFhqB"
      },
      "source": [
        "class Truck(Car):\r\n",
        "  def __init__(self, name, engine,color,power):\r\n",
        "    super().__init__(name,engine,color)\r\n",
        "    self.power=power\r\n",
        "  \r\n",
        "  def __str__(self):\r\n",
        "     return 'Xe {} có màu {} ,động cơ {} mã lực, công suất kéo {}'.format(self.name, self.engine, self.color,self.power)\r\n",
        "   \r\n",
        "\r\n",
        "  def key_start(self):\r\n",
        "    print ('{} khởi động bằng khóa cơ'.format(self.name))"
      ],
      "execution_count": 77,
      "outputs": []
    },
    {
      "cell_type": "code",
      "metadata": {
        "colab": {
          "base_uri": "https://localhost:8080/"
        },
        "id": "eR7-5FirFkgU",
        "outputId": "84992437-6eba-4f29-c6ce-8cb55dff8aa3"
      },
      "source": [
        "xetai=Truck(\"xe tai \",5.5,\"vang\",10300)\r\n",
        "print(xetai)\r\n",
        "xetai.key_start()"
      ],
      "execution_count": 79,
      "outputs": [
        {
          "output_type": "stream",
          "text": [
            "Xe xe tai  có màu 5.5 ,động cơ vang mã lực, công suất kéo 10300\n",
            "xe tai  khởi động bằng khóa cơ\n"
          ],
          "name": "stdout"
        }
      ]
    }
  ]
}