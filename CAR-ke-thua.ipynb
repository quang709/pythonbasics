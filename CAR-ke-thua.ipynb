{
  "nbformat": 4,
  "nbformat_minor": 0,
  "metadata": {
    "colab": {
      "name": "bai-tap-CAR.ipynb",
      "provenance": [],
      "include_colab_link": true
    },
    "kernelspec": {
      "name": "python3",
      "display_name": "Python 3"
    }
  },
  "cells": [
    {
      "cell_type": "markdown",
      "metadata": {
        "id": "view-in-github",
        "colab_type": "text"
      },
      "source": [
        "<a href=\"https://colab.research.google.com/github/quang709/pythonbasics/blob/main/CAR-ke-thua.ipynb\" target=\"_parent\"><img src=\"https://colab.research.google.com/assets/colab-badge.svg\" alt=\"Open In Colab\"/></a>"
      ]
    },
    {
      "cell_type": "markdown",
      "metadata": {
        "id": "bJGNCF66qS_5"
      },
      "source": [
        "Tạo lớp CAR có các thuộc tính name, color và engine"
      ]
    },
    {
      "cell_type": "code",
      "metadata": {
        "id": "GurytHijqLSC"
      },
      "source": [
        "class Car:\r\n",
        "  color = 'white'\r\n",
        "\r\n",
        "  def __init__(self, name, engine):\r\n",
        "    self.name = name\r\n",
        "    self.engine = engine\r\n",
        "  \r\n",
        "  def setColor(self, color):\r\n",
        "    self.color = color\r\n",
        "  \r\n",
        "  def setEngine(self, engine):\r\n",
        "    self.engine = engine\r\n",
        "  \r\n",
        "  def setName(self, name):\r\n",
        "    self.name = name\r\n",
        "  \r\n",
        "  def getEngine(self):\r\n",
        "    return self.engine\r\n",
        "  \r\n",
        "  def toString(self):\r\n",
        "    s = 'Xe {} có màu {} và động cơ {} mã lực'.format(self.name, self.color, self.engine)\r\n",
        "    return(s)"
      ],
      "execution_count": 3,
      "outputs": []
    },
    {
      "cell_type": "markdown",
      "metadata": {
        "id": "U4S9a6w-rzw9"
      },
      "source": [
        "Sử dụng lớp Car"
      ]
    },
    {
      "cell_type": "code",
      "metadata": {
        "colab": {
          "base_uri": "https://localhost:8080/"
        },
        "id": "wUt9mn8nr1Xh",
        "outputId": "ef56b685-2c6b-4d41-dcdf-65895bb02188"
      },
      "source": [
        "fadil = Car('Vinfast Fadil', 1.4)\r\n",
        "print(fadil.toString())"
      ],
      "execution_count": null,
      "outputs": [
        {
          "output_type": "stream",
          "text": [
            "Xe Vinfast Fadil có màu white và động cơ 1.4 mã lực\n"
          ],
          "name": "stdout"
        }
      ]
    },
    {
      "cell_type": "code",
      "metadata": {
        "colab": {
          "base_uri": "https://localhost:8080/"
        },
        "id": "y6sDsZMjsDQJ",
        "outputId": "61993f20-f58a-41ea-e35e-a11248d57a6f"
      },
      "source": [
        "fadil.setColor(\"Red\")\r\n",
        "print(fadil.toString())"
      ],
      "execution_count": null,
      "outputs": [
        {
          "output_type": "stream",
          "text": [
            "Xe Vinfast Fadil có màu Red và động cơ 1.4 mã lực\n"
          ],
          "name": "stdout"
        }
      ]
    },
    {
      "cell_type": "code",
      "metadata": {
        "colab": {
          "base_uri": "https://localhost:8080/"
        },
        "id": "-SvpXc7N_KyZ",
        "outputId": "8249542e-1fff-420e-e27f-c6c0d9266046"
      },
      "source": [
        "class Truck(Car):\r\n",
        "  def __init__(self, name, engine, power):\r\n",
        "    super().__init__(name,engine)\r\n",
        "    self.power=power\r\n",
        "  \r\n",
        "  def __str__(self):\r\n",
        "    s = 'Xe {} có màu {} ,động cơ {} mã lực, công suất kéo {}'.format(self.name, self.color, self.engine,self.power)\r\n",
        "    return(s)\r\n",
        "\r\n",
        "truck=Truck(\"xe tai honda\",6.6,1500)\r\n",
        "print(truck)    "
      ],
      "execution_count": 5,
      "outputs": [
        {
          "output_type": "stream",
          "text": [
            "Xe xe tai honda có màu white ,động cơ 6.6 mã lực, công suất kéo 1500\n"
          ],
          "name": "stdout"
        }
      ]
    }
  ]
}