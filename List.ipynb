{
  "nbformat": 4,
  "nbformat_minor": 0,
  "metadata": {
    "colab": {
      "name": "List.ipynb",
      "provenance": [],
      "authorship_tag": "ABX9TyOHiIzFhatC7EpS1LQ2J6Wx",
      "include_colab_link": true
    },
    "kernelspec": {
      "name": "python3",
      "display_name": "Python 3"
    }
  },
  "cells": [
    {
      "cell_type": "markdown",
      "metadata": {
        "id": "view-in-github",
        "colab_type": "text"
      },
      "source": [
        "<a href=\"https://colab.research.google.com/github/quang709/pythonbasics/blob/main/List.ipynb\" target=\"_parent\"><img src=\"https://colab.research.google.com/assets/colab-badge.svg\" alt=\"Open In Colab\"/></a>"
      ]
    },
    {
      "cell_type": "code",
      "metadata": {
        "colab": {
          "base_uri": "https://localhost:8080/"
        },
        "id": "wTwXPK6ZUMb0",
        "outputId": "1b5e757d-4608-42db-bedd-25e2f06e4d9e"
      },
      "source": [
        "x = []\r\n",
        "print (x)"
      ],
      "execution_count": 1,
      "outputs": [
        {
          "output_type": "stream",
          "text": [
            "[]\n"
          ],
          "name": "stdout"
        }
      ]
    },
    {
      "cell_type": "code",
      "metadata": {
        "colab": {
          "base_uri": "https://localhost:8080/"
        },
        "id": "7OcXZQOYWtI5",
        "outputId": "2c1f8213-74af-4e54-f0f0-9e13dffb1928"
      },
      "source": [
        "x = []\r\n",
        "x.append(18)\r\n",
        "print (x)"
      ],
      "execution_count": 37,
      "outputs": [
        {
          "output_type": "stream",
          "text": [
            "[18]\n"
          ],
          "name": "stdout"
        }
      ]
    },
    {
      "cell_type": "code",
      "metadata": {
        "id": "H7swaVFzgwgz"
      },
      "source": [
        ""
      ],
      "execution_count": null,
      "outputs": []
    },
    {
      "cell_type": "code",
      "metadata": {
        "colab": {
          "base_uri": "https://localhost:8080/"
        },
        "id": "yXYcvZcCWzoJ",
        "outputId": "27c89c89-f696-4603-a817-e9c3dd3dda16"
      },
      "source": [
        "x  = [18,\"hue\"]\r\n",
        "y = [12, 45, -1, -0.56, \"abc\"]\r\n",
        "x.extend(y)\r\n",
        "print (x)"
      ],
      "execution_count": 29,
      "outputs": [
        {
          "output_type": "stream",
          "text": [
            "[18, 'hue', 12, 45, -1, -0.56, 'abc']\n"
          ],
          "name": "stdout"
        }
      ]
    },
    {
      "cell_type": "code",
      "metadata": {
        "colab": {
          "base_uri": "https://localhost:8080/"
        },
        "id": "0HZtd78jeJrr",
        "outputId": "d8fe9234-8fc6-419f-d506-df682f2f0d92"
      },
      "source": [
        "x  = [18,\"hue\",13,123,1232,32,231,12]\r\n",
        "\r\n",
        "print (x[0],x[7])"
      ],
      "execution_count": 46,
      "outputs": [
        {
          "output_type": "stream",
          "text": [
            "18 12\n"
          ],
          "name": "stdout"
        }
      ]
    },
    {
      "cell_type": "code",
      "metadata": {
        "colab": {
          "base_uri": "https://localhost:8080/"
        },
        "id": "MJWxx_efjtvS",
        "outputId": "960bb176-1ee8-4398-c468-0b5336ff6ba5"
      },
      "source": [
        "x  = [18,\"hue\",13,123,1232,32,231,12]\r\n",
        "print(x[0:5])\r\n"
      ],
      "execution_count": 47,
      "outputs": [
        {
          "output_type": "stream",
          "text": [
            "[18, 'hue', 13, 123, 1232]\n"
          ],
          "name": "stdout"
        }
      ]
    },
    {
      "cell_type": "code",
      "metadata": {
        "colab": {
          "base_uri": "https://localhost:8080/"
        },
        "id": "oVKaZQrqkw63",
        "outputId": "fa3cee15-3945-4e9c-c25a-039567548efc"
      },
      "source": [
        "x  = [18,\"hue\",13,123,1232,32,231,12]\r\n",
        "print(x[3:8])"
      ],
      "execution_count": 49,
      "outputs": [
        {
          "output_type": "stream",
          "text": [
            "[123, 1232, 32, 231, 12]\n"
          ],
          "name": "stdout"
        }
      ]
    }
  ]
}