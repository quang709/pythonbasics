{
  "nbformat": 4,
  "nbformat_minor": 0,
  "metadata": {
    "colab": {
      "name": "Untitled0.ipynb",
      "provenance": [],
      "authorship_tag": "ABX9TyO0pc4UPCecFMXlVlCldR00",
      "include_colab_link": true
    },
    "kernelspec": {
      "name": "python3",
      "display_name": "Python 3"
    }
  },
  "cells": [
    {
      "cell_type": "markdown",
      "metadata": {
        "id": "view-in-github",
        "colab_type": "text"
      },
      "source": [
        "<a href=\"https://colab.research.google.com/github/quang709/pythonbasics/blob/main/Car.ipynb\" target=\"_parent\"><img src=\"https://colab.research.google.com/assets/colab-badge.svg\" alt=\"Open In Colab\"/></a>"
      ]
    },
    {
      "cell_type": "markdown",
      "metadata": {
        "id": "0YoARoDgoB_I"
      },
      "source": [
        "1) Tạo lớp có tên là Car"
      ]
    },
    {
      "cell_type": "code",
      "metadata": {
        "colab": {
          "base_uri": "https://localhost:8080/"
        },
        "id": "qig6XEF-oD_I",
        "outputId": "735633ec-17d5-4753-9f11-eec022b13c87"
      },
      "source": [
        "class Car:\r\n",
        "  color = 'white'\r\n",
        "\r\n",
        "  def __init__(self, name, engine):\r\n",
        "    self.name = name\r\n",
        "    self.engine = engine\r\n",
        "  \r\n",
        "  def setColor(self, color):\r\n",
        "    self.color = color\r\n",
        "  \r\n",
        "  def setEngine(self, engine):\r\n",
        "    self.engine = engine\r\n",
        "  \r\n",
        "  def setName(self, name):\r\n",
        "    self.name = name\r\n",
        "  \r\n",
        "  def getEngine(self):\r\n",
        "    return self.engine\r\n",
        "  \r\n",
        "  def toString(self):\r\n",
        "    s = 'Xe {} có màu {} và động cơ {} mã lực'.format(self.name, self.color, self.engine)\r\n",
        "    return(s)\r\n",
        "\r\n",
        "   \r\n",
        "\r\n",
        "    \r\n",
        "fadil = Car('Vinfast Fadil', 1.4)\r\n",
        "print(fadil.toString())\r\n",
        "\r\n",
        "fadil.setColor(\"Red\")\r\n",
        "print(fadil.toString())"
      ],
      "execution_count": 48,
      "outputs": [
        {
          "output_type": "stream",
          "text": [
            "Xe Vinfast Fadil có màu white và động cơ 1.4 mã lực\n",
            "Xe Vinfast Fadil có màu Red và động cơ 1.4 mã lực\n"
          ],
          "name": "stdout"
        }
      ]
    }
  ]
}